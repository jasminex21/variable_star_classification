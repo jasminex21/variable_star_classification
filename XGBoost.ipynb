{
 "cells": [
  {
   "cell_type": "code",
   "execution_count": 24,
   "id": "641db136",
   "metadata": {},
   "outputs": [],
   "source": [
    "import pandas as pd\n",
    "import numpy as np\n",
    "import seaborn as sns\n",
    "import matplotlib.pyplot as plt\n",
    "import xgboost as xgb\n",
    "from scipy import stats\n",
    "from sklearn.preprocessing import MinMaxScaler, LabelEncoder\n",
    "from sklearn.model_selection import train_test_split, RandomizedSearchCV, GridSearchCV\n",
    "from sklearn.ensemble import RandomForestClassifier\n",
    "from sklearn.metrics import accuracy_score, confusion_matrix, classification_report\n",
    "from sklearn.utils.class_weight import compute_class_weight\n",
    "from sklearn.datasets import make_classification\n",
    "from imblearn.over_sampling import SMOTE\n",
    "from xgboost import XGBClassifier\n",
    "import pickle"
   ]
  },
  {
   "cell_type": "code",
   "execution_count": 11,
   "id": "5955a666",
   "metadata": {},
   "outputs": [
    {
     "name": "stderr",
     "output_type": "stream",
     "text": [
      "/opt/apps/intel19/python3/3.9.7/lib/python3.9/site-packages/IPython/core/interactiveshell.py:3444: DtypeWarning: Columns (6,36) have mixed types.Specify dtype option on import or set low_memory=False.\n",
      "  exec(code_obj, self.user_global_ns, self.user_ns)\n"
     ]
    }
   ],
   "source": [
    "# read in data - this is a CSV file of general features for around 730K stars\n",
    "data_path = \"ALL_full_star_table_all_types.txt\"\n",
    "data = pd.read_csv(data_path, sep='\\t', skiprows=6, header=0)"
   ]
  },
  {
   "cell_type": "code",
   "execution_count": 12,
   "id": "3ba7003a",
   "metadata": {},
   "outputs": [],
   "source": [
    "labels = data[\"Type\"]"
   ]
  },
  {
   "cell_type": "code",
   "execution_count": 13,
   "id": "45344844",
   "metadata": {},
   "outputs": [],
   "source": [
    "# replacing -99.99s with NaNs\n",
    "data = data.replace(-99.99, np.nan)\n",
    "data = data.replace(\"-99.99\", np.nan)"
   ]
  },
  {
   "cell_type": "code",
   "execution_count": 14,
   "id": "c1f04502",
   "metadata": {},
   "outputs": [
    {
     "data": {
      "text/html": [
       "<div>\n",
       "<style scoped>\n",
       "    .dataframe tbody tr th:only-of-type {\n",
       "        vertical-align: middle;\n",
       "    }\n",
       "\n",
       "    .dataframe tbody tr th {\n",
       "        vertical-align: top;\n",
       "    }\n",
       "\n",
       "    .dataframe thead th {\n",
       "        text-align: right;\n",
       "    }\n",
       "</style>\n",
       "<table border=\"1\" class=\"dataframe\">\n",
       "  <thead>\n",
       "    <tr style=\"text-align: right;\">\n",
       "      <th></th>\n",
       "      <th>ID</th>\n",
       "      <th>Type</th>\n",
       "      <th>Subtype</th>\n",
       "      <th>RA</th>\n",
       "      <th>DECL</th>\n",
       "      <th>ID_OGLE_IV</th>\n",
       "      <th>I</th>\n",
       "      <th>P_1</th>\n",
       "      <th>T0_1</th>\n",
       "      <th>A_1</th>\n",
       "      <th>Target</th>\n",
       "    </tr>\n",
       "  </thead>\n",
       "  <tbody>\n",
       "    <tr>\n",
       "      <th>0</th>\n",
       "      <td>OGLE-BLG-CEP-001</td>\n",
       "      <td>Cep</td>\n",
       "      <td>F</td>\n",
       "      <td>17.570842</td>\n",
       "      <td>-27.398250</td>\n",
       "      <td>BLG611.14.36983</td>\n",
       "      <td>17.395</td>\n",
       "      <td>2.597573</td>\n",
       "      <td>7002.54120</td>\n",
       "      <td>0.523</td>\n",
       "      <td>BLG</td>\n",
       "    </tr>\n",
       "    <tr>\n",
       "      <th>1</th>\n",
       "      <td>OGLE-BLG-CEP-002</td>\n",
       "      <td>Cep</td>\n",
       "      <td>F</td>\n",
       "      <td>17.632956</td>\n",
       "      <td>-22.503361</td>\n",
       "      <td>BLG625.32.78667</td>\n",
       "      <td>15.734</td>\n",
       "      <td>2.025573</td>\n",
       "      <td>7000.98498</td>\n",
       "      <td>0.730</td>\n",
       "      <td>BLG</td>\n",
       "    </tr>\n",
       "    <tr>\n",
       "      <th>2</th>\n",
       "      <td>OGLE-BLG-CEP-003</td>\n",
       "      <td>Cep</td>\n",
       "      <td>F1</td>\n",
       "      <td>17.745497</td>\n",
       "      <td>-23.723639</td>\n",
       "      <td>BLG632.13.133301</td>\n",
       "      <td>16.424</td>\n",
       "      <td>1.235729</td>\n",
       "      <td>7000.55567</td>\n",
       "      <td>0.046</td>\n",
       "      <td>BLG</td>\n",
       "    </tr>\n",
       "    <tr>\n",
       "      <th>3</th>\n",
       "      <td>OGLE-BLG-CEP-004</td>\n",
       "      <td>Cep</td>\n",
       "      <td>12</td>\n",
       "      <td>17.763842</td>\n",
       "      <td>-33.768778</td>\n",
       "      <td>BLG603.29.45415</td>\n",
       "      <td>16.178</td>\n",
       "      <td>0.240046</td>\n",
       "      <td>7000.16541</td>\n",
       "      <td>0.110</td>\n",
       "      <td>BLG</td>\n",
       "    </tr>\n",
       "    <tr>\n",
       "      <th>4</th>\n",
       "      <td>OGLE-BLG-CEP-005</td>\n",
       "      <td>Cep</td>\n",
       "      <td>F</td>\n",
       "      <td>17.818625</td>\n",
       "      <td>-23.121861</td>\n",
       "      <td>NaN</td>\n",
       "      <td>15.374</td>\n",
       "      <td>3.795593</td>\n",
       "      <td>7002.17287</td>\n",
       "      <td>0.409</td>\n",
       "      <td>BLG</td>\n",
       "    </tr>\n",
       "  </tbody>\n",
       "</table>\n",
       "</div>"
      ],
      "text/plain": [
       "                 ID Type Subtype         RA       DECL        ID_OGLE_IV  \\\n",
       "0  OGLE-BLG-CEP-001  Cep       F  17.570842 -27.398250   BLG611.14.36983   \n",
       "1  OGLE-BLG-CEP-002  Cep       F  17.632956 -22.503361   BLG625.32.78667   \n",
       "2  OGLE-BLG-CEP-003  Cep      F1  17.745497 -23.723639  BLG632.13.133301   \n",
       "3  OGLE-BLG-CEP-004  Cep      12  17.763842 -33.768778   BLG603.29.45415   \n",
       "4  OGLE-BLG-CEP-005  Cep       F  17.818625 -23.121861               NaN   \n",
       "\n",
       "        I       P_1        T0_1    A_1 Target  \n",
       "0  17.395  2.597573  7002.54120  0.523    BLG  \n",
       "1  15.734  2.025573  7000.98498  0.730    BLG  \n",
       "2  16.424  1.235729  7000.55567  0.046    BLG  \n",
       "3  16.178  0.240046  7000.16541  0.110    BLG  \n",
       "4  15.374  3.795593  7002.17287  0.409    BLG  "
      ]
     },
     "execution_count": 14,
     "metadata": {},
     "output_type": "execute_result"
    }
   ],
   "source": [
    "high_nan = data.columns[data.isna().mean() > 0.2]\n",
    "\n",
    "# create a DataFrame with non-NaN columns\n",
    "df_filtered = data.drop(columns=high_nan)\n",
    "df_filtered.head()"
   ]
  },
  {
   "cell_type": "code",
   "execution_count": 15,
   "id": "1e43865c",
   "metadata": {},
   "outputs": [
    {
     "data": {
      "text/html": [
       "<div>\n",
       "<style scoped>\n",
       "    .dataframe tbody tr th:only-of-type {\n",
       "        vertical-align: middle;\n",
       "    }\n",
       "\n",
       "    .dataframe tbody tr th {\n",
       "        vertical-align: top;\n",
       "    }\n",
       "\n",
       "    .dataframe thead th {\n",
       "        text-align: right;\n",
       "    }\n",
       "</style>\n",
       "<table border=\"1\" class=\"dataframe\">\n",
       "  <thead>\n",
       "    <tr style=\"text-align: right;\">\n",
       "      <th></th>\n",
       "      <th>RA</th>\n",
       "      <th>DECL</th>\n",
       "      <th>I</th>\n",
       "      <th>P_1</th>\n",
       "      <th>T0_1</th>\n",
       "      <th>A_1</th>\n",
       "    </tr>\n",
       "  </thead>\n",
       "  <tbody>\n",
       "    <tr>\n",
       "      <th>0</th>\n",
       "      <td>17.570842</td>\n",
       "      <td>-27.398250</td>\n",
       "      <td>17.395</td>\n",
       "      <td>2.597573</td>\n",
       "      <td>7002.54120</td>\n",
       "      <td>0.523</td>\n",
       "    </tr>\n",
       "    <tr>\n",
       "      <th>1</th>\n",
       "      <td>17.632956</td>\n",
       "      <td>-22.503361</td>\n",
       "      <td>15.734</td>\n",
       "      <td>2.025573</td>\n",
       "      <td>7000.98498</td>\n",
       "      <td>0.730</td>\n",
       "    </tr>\n",
       "    <tr>\n",
       "      <th>2</th>\n",
       "      <td>17.745497</td>\n",
       "      <td>-23.723639</td>\n",
       "      <td>16.424</td>\n",
       "      <td>1.235729</td>\n",
       "      <td>7000.55567</td>\n",
       "      <td>0.046</td>\n",
       "    </tr>\n",
       "    <tr>\n",
       "      <th>3</th>\n",
       "      <td>17.763842</td>\n",
       "      <td>-33.768778</td>\n",
       "      <td>16.178</td>\n",
       "      <td>0.240046</td>\n",
       "      <td>7000.16541</td>\n",
       "      <td>0.110</td>\n",
       "    </tr>\n",
       "    <tr>\n",
       "      <th>4</th>\n",
       "      <td>17.818625</td>\n",
       "      <td>-23.121861</td>\n",
       "      <td>15.374</td>\n",
       "      <td>3.795593</td>\n",
       "      <td>7002.17287</td>\n",
       "      <td>0.409</td>\n",
       "    </tr>\n",
       "    <tr>\n",
       "      <th>...</th>\n",
       "      <td>...</td>\n",
       "      <td>...</td>\n",
       "      <td>...</td>\n",
       "      <td>...</td>\n",
       "      <td>...</td>\n",
       "      <td>...</td>\n",
       "    </tr>\n",
       "    <tr>\n",
       "      <th>735937</th>\n",
       "      <td>1.028956</td>\n",
       "      <td>-75.017250</td>\n",
       "      <td>17.464</td>\n",
       "      <td>4.227618</td>\n",
       "      <td>7001.52773</td>\n",
       "      <td>0.299</td>\n",
       "    </tr>\n",
       "    <tr>\n",
       "      <th>735938</th>\n",
       "      <td>1.102853</td>\n",
       "      <td>-71.079444</td>\n",
       "      <td>18.708</td>\n",
       "      <td>1.065770</td>\n",
       "      <td>7000.11577</td>\n",
       "      <td>0.288</td>\n",
       "    </tr>\n",
       "    <tr>\n",
       "      <th>735939</th>\n",
       "      <td>1.161111</td>\n",
       "      <td>-70.477722</td>\n",
       "      <td>18.147</td>\n",
       "      <td>1.746251</td>\n",
       "      <td>7000.80591</td>\n",
       "      <td>0.444</td>\n",
       "    </tr>\n",
       "    <tr>\n",
       "      <th>735940</th>\n",
       "      <td>1.214036</td>\n",
       "      <td>-74.588444</td>\n",
       "      <td>16.307</td>\n",
       "      <td>14.912622</td>\n",
       "      <td>7013.31086</td>\n",
       "      <td>0.631</td>\n",
       "    </tr>\n",
       "    <tr>\n",
       "      <th>735941</th>\n",
       "      <td>1.319739</td>\n",
       "      <td>-75.067194</td>\n",
       "      <td>17.891</td>\n",
       "      <td>1.842325</td>\n",
       "      <td>7000.66340</td>\n",
       "      <td>0.699</td>\n",
       "    </tr>\n",
       "  </tbody>\n",
       "</table>\n",
       "<p>735942 rows × 6 columns</p>\n",
       "</div>"
      ],
      "text/plain": [
       "               RA       DECL       I        P_1        T0_1    A_1\n",
       "0       17.570842 -27.398250  17.395   2.597573  7002.54120  0.523\n",
       "1       17.632956 -22.503361  15.734   2.025573  7000.98498  0.730\n",
       "2       17.745497 -23.723639  16.424   1.235729  7000.55567  0.046\n",
       "3       17.763842 -33.768778  16.178   0.240046  7000.16541  0.110\n",
       "4       17.818625 -23.121861  15.374   3.795593  7002.17287  0.409\n",
       "...           ...        ...     ...        ...         ...    ...\n",
       "735937   1.028956 -75.017250  17.464   4.227618  7001.52773  0.299\n",
       "735938   1.102853 -71.079444  18.708   1.065770  7000.11577  0.288\n",
       "735939   1.161111 -70.477722  18.147   1.746251  7000.80591  0.444\n",
       "735940   1.214036 -74.588444  16.307  14.912622  7013.31086  0.631\n",
       "735941   1.319739 -75.067194  17.891   1.842325  7000.66340  0.699\n",
       "\n",
       "[735942 rows x 6 columns]"
      ]
     },
     "execution_count": 15,
     "metadata": {},
     "output_type": "execute_result"
    }
   ],
   "source": [
    "non_numeric_columns = df_filtered.select_dtypes(exclude=['number'])\n",
    "df_numeric = df_filtered.drop(columns=non_numeric_columns)\n",
    "df_numeric"
   ]
  },
  {
   "cell_type": "code",
   "execution_count": 16,
   "id": "135aa491",
   "metadata": {},
   "outputs": [],
   "source": [
    "features = ['T0_1', 'A_1', 'I', 'P_1']\n",
    "data = df_numeric[features]"
   ]
  },
  {
   "cell_type": "code",
   "execution_count": 17,
   "id": "6fe8e733",
   "metadata": {},
   "outputs": [],
   "source": [
    "# dropping NaNs from dataframe\n",
    "nan_indices = data[data.isna().any(axis=1)].index\n",
    "data = data.dropna()"
   ]
  },
  {
   "cell_type": "code",
   "execution_count": 18,
   "id": "e09006fc",
   "metadata": {},
   "outputs": [],
   "source": [
    "# removing corresponding indices from labels\n",
    "labels = [label for i, label in enumerate(labels) if i not in nan_indices]\n",
    "classes = np.unique(labels)\n",
    "data = data.reset_index(drop=True)"
   ]
  },
  {
   "cell_type": "code",
   "execution_count": 19,
   "id": "00add6cc",
   "metadata": {},
   "outputs": [
    {
     "data": {
      "text/plain": [
       "array([0, 0, 0, ..., 5, 5, 5])"
      ]
     },
     "execution_count": 19,
     "metadata": {},
     "output_type": "execute_result"
    }
   ],
   "source": [
    "encoder = LabelEncoder()\n",
    "labels_encoded = encoder.fit_transform(labels)\n",
    "labels_encoded"
   ]
  },
  {
   "cell_type": "code",
   "execution_count": 20,
   "id": "c8ebbb33",
   "metadata": {},
   "outputs": [],
   "source": [
    "# smote instance \n",
    "smote = SMOTE(sampling_strategy='auto', random_state=21)\n",
    "X_resampled, y_resampled = smote.fit_resample(data, labels_encoded)"
   ]
  },
  {
   "cell_type": "code",
   "execution_count": 21,
   "id": "acdec839",
   "metadata": {},
   "outputs": [],
   "source": [
    "X_train, X_temp, y_train, y_temp = train_test_split(X_resampled, \n",
    "                                                    y_resampled, \n",
    "                                                    test_size=0.3, \n",
    "                                                    random_state=21)\n",
    "\n",
    "X_val, X_test, y_val, y_test = train_test_split(X_temp, \n",
    "                                                y_temp, \n",
    "                                                test_size=0.5, \n",
    "                                                random_state=21)\n"
   ]
  },
  {
   "cell_type": "code",
   "execution_count": null,
   "id": "35efb9f3",
   "metadata": {},
   "outputs": [],
   "source": [
    "# hyperparameter tuning for random forest\n",
    "param_dist = {\n",
    "    'n_estimators': [100, 200, 300, 400],\n",
    "    'learning_rate': [0.01, 0.1, 0.2],\n",
    "    'max_depth': [3, 4, 5],\n",
    "    'min_child_weight': [1, 2, 3],\n",
    "    'gamma': [0, 0.1, 0.2],\n",
    "}\n",
    "\n",
    "\n",
    "# hyperparameter tuning for XGBoost\n",
    "xgb_test = XGBClassifier()\n",
    "\n",
    "rand_search = RandomizedSearchCV(estimator=xgb_test, \n",
    "                                 param_distributions=param_dist, \n",
    "                                 n_iter=20, \n",
    "                                 cv=5, \n",
    "                                 scoring=\"accuracy\", \n",
    "                                 random_state=21, \n",
    "                                 n_jobs=-1)\n",
    "\n",
    "rand_search.fit(X_val, y_val)\n",
    "\n",
    "best_params = rand_search.best_params_\n",
    "best_params"
   ]
  },
  {
   "cell_type": "code",
   "execution_count": 32,
   "id": "c41877ec",
   "metadata": {},
   "outputs": [
    {
     "data": {
      "text/html": [
       "<style>#sk-container-id-3 {color: black;}#sk-container-id-3 pre{padding: 0;}#sk-container-id-3 div.sk-toggleable {background-color: white;}#sk-container-id-3 label.sk-toggleable__label {cursor: pointer;display: block;width: 100%;margin-bottom: 0;padding: 0.3em;box-sizing: border-box;text-align: center;}#sk-container-id-3 label.sk-toggleable__label-arrow:before {content: \"▸\";float: left;margin-right: 0.25em;color: #696969;}#sk-container-id-3 label.sk-toggleable__label-arrow:hover:before {color: black;}#sk-container-id-3 div.sk-estimator:hover label.sk-toggleable__label-arrow:before {color: black;}#sk-container-id-3 div.sk-toggleable__content {max-height: 0;max-width: 0;overflow: hidden;text-align: left;background-color: #f0f8ff;}#sk-container-id-3 div.sk-toggleable__content pre {margin: 0.2em;color: black;border-radius: 0.25em;background-color: #f0f8ff;}#sk-container-id-3 input.sk-toggleable__control:checked~div.sk-toggleable__content {max-height: 200px;max-width: 100%;overflow: auto;}#sk-container-id-3 input.sk-toggleable__control:checked~label.sk-toggleable__label-arrow:before {content: \"▾\";}#sk-container-id-3 div.sk-estimator input.sk-toggleable__control:checked~label.sk-toggleable__label {background-color: #d4ebff;}#sk-container-id-3 div.sk-label input.sk-toggleable__control:checked~label.sk-toggleable__label {background-color: #d4ebff;}#sk-container-id-3 input.sk-hidden--visually {border: 0;clip: rect(1px 1px 1px 1px);clip: rect(1px, 1px, 1px, 1px);height: 1px;margin: -1px;overflow: hidden;padding: 0;position: absolute;width: 1px;}#sk-container-id-3 div.sk-estimator {font-family: monospace;background-color: #f0f8ff;border: 1px dotted black;border-radius: 0.25em;box-sizing: border-box;margin-bottom: 0.5em;}#sk-container-id-3 div.sk-estimator:hover {background-color: #d4ebff;}#sk-container-id-3 div.sk-parallel-item::after {content: \"\";width: 100%;border-bottom: 1px solid gray;flex-grow: 1;}#sk-container-id-3 div.sk-label:hover label.sk-toggleable__label {background-color: #d4ebff;}#sk-container-id-3 div.sk-serial::before {content: \"\";position: absolute;border-left: 1px solid gray;box-sizing: border-box;top: 0;bottom: 0;left: 50%;z-index: 0;}#sk-container-id-3 div.sk-serial {display: flex;flex-direction: column;align-items: center;background-color: white;padding-right: 0.2em;padding-left: 0.2em;position: relative;}#sk-container-id-3 div.sk-item {position: relative;z-index: 1;}#sk-container-id-3 div.sk-parallel {display: flex;align-items: stretch;justify-content: center;background-color: white;position: relative;}#sk-container-id-3 div.sk-item::before, #sk-container-id-3 div.sk-parallel-item::before {content: \"\";position: absolute;border-left: 1px solid gray;box-sizing: border-box;top: 0;bottom: 0;left: 50%;z-index: -1;}#sk-container-id-3 div.sk-parallel-item {display: flex;flex-direction: column;z-index: 1;position: relative;background-color: white;}#sk-container-id-3 div.sk-parallel-item:first-child::after {align-self: flex-end;width: 50%;}#sk-container-id-3 div.sk-parallel-item:last-child::after {align-self: flex-start;width: 50%;}#sk-container-id-3 div.sk-parallel-item:only-child::after {width: 0;}#sk-container-id-3 div.sk-dashed-wrapped {border: 1px dashed gray;margin: 0 0.4em 0.5em 0.4em;box-sizing: border-box;padding-bottom: 0.4em;background-color: white;}#sk-container-id-3 div.sk-label label {font-family: monospace;font-weight: bold;display: inline-block;line-height: 1.2em;}#sk-container-id-3 div.sk-label-container {text-align: center;}#sk-container-id-3 div.sk-container {/* jupyter's `normalize.less` sets `[hidden] { display: none; }` but bootstrap.min.css set `[hidden] { display: none !important; }` so we also need the `!important` here to be able to override the default hidden behavior on the sphinx rendered scikit-learn.org. See: https://github.com/scikit-learn/scikit-learn/issues/21755 */display: inline-block !important;position: relative;}#sk-container-id-3 div.sk-text-repr-fallback {display: none;}</style><div id=\"sk-container-id-3\" class=\"sk-top-container\"><div class=\"sk-text-repr-fallback\"><pre>XGBClassifier(base_score=None, booster=None, callbacks=None,\n",
       "              colsample_bylevel=None, colsample_bynode=None,\n",
       "              colsample_bytree=None, device=None, early_stopping_rounds=None,\n",
       "              enable_categorical=False, eval_metric=None, feature_types=None,\n",
       "              gamma=0, grow_policy=None, importance_type=None,\n",
       "              interaction_constraints=None, learning_rate=0.2, max_bin=None,\n",
       "              max_cat_threshold=None, max_cat_to_onehot=None,\n",
       "              max_delta_step=None, max_depth=5, max_leaves=None,\n",
       "              min_child_weight=2, missing=nan, monotone_constraints=None,\n",
       "              multi_strategy=None, n_estimators=300, n_jobs=None,\n",
       "              num_parallel_tree=None, objective=&#x27;multi:softprob&#x27;, ...)</pre><b>In a Jupyter environment, please rerun this cell to show the HTML representation or trust the notebook. <br />On GitHub, the HTML representation is unable to render, please try loading this page with nbviewer.org.</b></div><div class=\"sk-container\" hidden><div class=\"sk-item\"><div class=\"sk-estimator sk-toggleable\"><input class=\"sk-toggleable__control sk-hidden--visually\" id=\"sk-estimator-id-3\" type=\"checkbox\" checked><label for=\"sk-estimator-id-3\" class=\"sk-toggleable__label sk-toggleable__label-arrow\">XGBClassifier</label><div class=\"sk-toggleable__content\"><pre>XGBClassifier(base_score=None, booster=None, callbacks=None,\n",
       "              colsample_bylevel=None, colsample_bynode=None,\n",
       "              colsample_bytree=None, device=None, early_stopping_rounds=None,\n",
       "              enable_categorical=False, eval_metric=None, feature_types=None,\n",
       "              gamma=0, grow_policy=None, importance_type=None,\n",
       "              interaction_constraints=None, learning_rate=0.2, max_bin=None,\n",
       "              max_cat_threshold=None, max_cat_to_onehot=None,\n",
       "              max_delta_step=None, max_depth=5, max_leaves=None,\n",
       "              min_child_weight=2, missing=nan, monotone_constraints=None,\n",
       "              multi_strategy=None, n_estimators=300, n_jobs=None,\n",
       "              num_parallel_tree=None, objective=&#x27;multi:softprob&#x27;, ...)</pre></div></div></div></div></div>"
      ],
      "text/plain": [
       "XGBClassifier(base_score=None, booster=None, callbacks=None,\n",
       "              colsample_bylevel=None, colsample_bynode=None,\n",
       "              colsample_bytree=None, device=None, early_stopping_rounds=None,\n",
       "              enable_categorical=False, eval_metric=None, feature_types=None,\n",
       "              gamma=0, grow_policy=None, importance_type=None,\n",
       "              interaction_constraints=None, learning_rate=0.2, max_bin=None,\n",
       "              max_cat_threshold=None, max_cat_to_onehot=None,\n",
       "              max_delta_step=None, max_depth=5, max_leaves=None,\n",
       "              min_child_weight=2, missing=nan, monotone_constraints=None,\n",
       "              multi_strategy=None, n_estimators=300, n_jobs=None,\n",
       "              num_parallel_tree=None, objective='multi:softprob', ...)"
      ]
     },
     "execution_count": 32,
     "metadata": {},
     "output_type": "execute_result"
    }
   ],
   "source": [
    "xgb_model = XGBClassifier(n_estimators=300, \n",
    "                    gamma=0, \n",
    "                    learning_rate=0.2, \n",
    "                    max_depth=5, \n",
    "                    min_child_weight=2,\n",
    "                    random_state=21)\n",
    "xgb_model.fit(X_train, y_train)"
   ]
  },
  {
   "cell_type": "code",
   "execution_count": 33,
   "id": "1cd74a8a",
   "metadata": {},
   "outputs": [],
   "source": [
    "with open('XGBoost_model.pkl','wb') as f:\n",
    "     pickle.dump(xgb_model, f)"
   ]
  },
  {
   "cell_type": "code",
   "execution_count": 29,
   "id": "1dfd77d6",
   "metadata": {},
   "outputs": [
    {
     "ename": "NotFittedError",
     "evalue": "need to call fit or load_model beforehand",
     "output_type": "error",
     "traceback": [
      "\u001b[0;31m---------------------------------------------------------------------------\u001b[0m",
      "\u001b[0;31mNotFittedError\u001b[0m                            Traceback (most recent call last)",
      "\u001b[0;32m/tmp/ipykernel_4103400/2875224476.py\u001b[0m in \u001b[0;36m<module>\u001b[0;34m\u001b[0m\n\u001b[0;32m----> 1\u001b[0;31m \u001b[0mxgb_predictions\u001b[0m \u001b[0;34m=\u001b[0m \u001b[0mxgb_model\u001b[0m\u001b[0;34m.\u001b[0m\u001b[0mpredict\u001b[0m\u001b[0;34m(\u001b[0m\u001b[0mX_test\u001b[0m\u001b[0;34m)\u001b[0m\u001b[0;34m\u001b[0m\u001b[0;34m\u001b[0m\u001b[0m\n\u001b[0m\u001b[1;32m      2\u001b[0m \u001b[0mxgb_accuracy\u001b[0m \u001b[0;34m=\u001b[0m \u001b[0maccuracy_score\u001b[0m\u001b[0;34m(\u001b[0m\u001b[0my_test\u001b[0m\u001b[0;34m,\u001b[0m \u001b[0mxgb_predictions\u001b[0m\u001b[0;34m)\u001b[0m\u001b[0;34m\u001b[0m\u001b[0;34m\u001b[0m\u001b[0m\n\u001b[1;32m      3\u001b[0m \u001b[0mxgb_accuracy\u001b[0m \u001b[0;34m*\u001b[0m \u001b[0;36m100\u001b[0m\u001b[0;34m\u001b[0m\u001b[0;34m\u001b[0m\u001b[0m\n",
      "\u001b[0;32m~/.local/lib/python3.9/site-packages/xgboost/sklearn.py\u001b[0m in \u001b[0;36mpredict\u001b[0;34m(self, X, output_margin, validate_features, base_margin, iteration_range)\u001b[0m\n\u001b[1;32m   1547\u001b[0m     ) -> ArrayLike:\n\u001b[1;32m   1548\u001b[0m         \u001b[0;32mwith\u001b[0m \u001b[0mconfig_context\u001b[0m\u001b[0;34m(\u001b[0m\u001b[0mverbosity\u001b[0m\u001b[0;34m=\u001b[0m\u001b[0mself\u001b[0m\u001b[0;34m.\u001b[0m\u001b[0mverbosity\u001b[0m\u001b[0;34m)\u001b[0m\u001b[0;34m:\u001b[0m\u001b[0;34m\u001b[0m\u001b[0;34m\u001b[0m\u001b[0m\n\u001b[0;32m-> 1549\u001b[0;31m             class_probs = super().predict(\n\u001b[0m\u001b[1;32m   1550\u001b[0m                 \u001b[0mX\u001b[0m\u001b[0;34m=\u001b[0m\u001b[0mX\u001b[0m\u001b[0;34m,\u001b[0m\u001b[0;34m\u001b[0m\u001b[0;34m\u001b[0m\u001b[0m\n\u001b[1;32m   1551\u001b[0m                 \u001b[0moutput_margin\u001b[0m\u001b[0;34m=\u001b[0m\u001b[0moutput_margin\u001b[0m\u001b[0;34m,\u001b[0m\u001b[0;34m\u001b[0m\u001b[0;34m\u001b[0m\u001b[0m\n",
      "\u001b[0;32m~/.local/lib/python3.9/site-packages/xgboost/sklearn.py\u001b[0m in \u001b[0;36mpredict\u001b[0;34m(self, X, output_margin, validate_features, base_margin, iteration_range)\u001b[0m\n\u001b[1;32m   1162\u001b[0m             \u001b[0;32mif\u001b[0m \u001b[0mself\u001b[0m\u001b[0;34m.\u001b[0m\u001b[0m_can_use_inplace_predict\u001b[0m\u001b[0;34m(\u001b[0m\u001b[0;34m)\u001b[0m\u001b[0;34m:\u001b[0m\u001b[0;34m\u001b[0m\u001b[0;34m\u001b[0m\u001b[0m\n\u001b[1;32m   1163\u001b[0m                 \u001b[0;32mtry\u001b[0m\u001b[0;34m:\u001b[0m\u001b[0;34m\u001b[0m\u001b[0;34m\u001b[0m\u001b[0m\n\u001b[0;32m-> 1164\u001b[0;31m                     predts = self.get_booster().inplace_predict(\n\u001b[0m\u001b[1;32m   1165\u001b[0m                         \u001b[0mdata\u001b[0m\u001b[0;34m=\u001b[0m\u001b[0mX\u001b[0m\u001b[0;34m,\u001b[0m\u001b[0;34m\u001b[0m\u001b[0;34m\u001b[0m\u001b[0m\n\u001b[1;32m   1166\u001b[0m                         \u001b[0miteration_range\u001b[0m\u001b[0;34m=\u001b[0m\u001b[0miteration_range\u001b[0m\u001b[0;34m,\u001b[0m\u001b[0;34m\u001b[0m\u001b[0;34m\u001b[0m\u001b[0m\n",
      "\u001b[0;32m~/.local/lib/python3.9/site-packages/xgboost/sklearn.py\u001b[0m in \u001b[0;36mget_booster\u001b[0;34m(self)\u001b[0m\n\u001b[1;32m    736\u001b[0m             \u001b[0;32mfrom\u001b[0m \u001b[0msklearn\u001b[0m\u001b[0;34m.\u001b[0m\u001b[0mexceptions\u001b[0m \u001b[0;32mimport\u001b[0m \u001b[0mNotFittedError\u001b[0m\u001b[0;34m\u001b[0m\u001b[0;34m\u001b[0m\u001b[0m\n\u001b[1;32m    737\u001b[0m \u001b[0;34m\u001b[0m\u001b[0m\n\u001b[0;32m--> 738\u001b[0;31m             \u001b[0;32mraise\u001b[0m \u001b[0mNotFittedError\u001b[0m\u001b[0;34m(\u001b[0m\u001b[0;34m\"need to call fit or load_model beforehand\"\u001b[0m\u001b[0;34m)\u001b[0m\u001b[0;34m\u001b[0m\u001b[0;34m\u001b[0m\u001b[0m\n\u001b[0m\u001b[1;32m    739\u001b[0m         \u001b[0;32mreturn\u001b[0m \u001b[0mself\u001b[0m\u001b[0;34m.\u001b[0m\u001b[0m_Booster\u001b[0m\u001b[0;34m\u001b[0m\u001b[0;34m\u001b[0m\u001b[0m\n\u001b[1;32m    740\u001b[0m \u001b[0;34m\u001b[0m\u001b[0m\n",
      "\u001b[0;31mNotFittedError\u001b[0m: need to call fit or load_model beforehand"
     ]
    }
   ],
   "source": [
    "xgb_predictions = xgb_model.predict(X_test)\n",
    "xgb_accuracy = accuracy_score(y_test, xgb_predictions)\n",
    "xgb_accuracy * 100"
   ]
  },
  {
   "cell_type": "code",
   "execution_count": 23,
   "id": "35930a4e",
   "metadata": {},
   "outputs": [],
   "source": [
    "conf_mat_2 = confusion_matrix(y_test, xgb_predictions)\n",
    "conf_mat_pct_2 = conf_mat_2.astype(\"float\") / conf_mat_2.sum(axis=1)[:, np.newaxis] * 100\n",
    "\n",
    "plt.figure(figsize=(16, 14))\n",
    "ax = sns.heatmap(conf_mat_pct_2, fmt=\".2f\", cmap=\"Blues\", cbar=False,\n",
    "            xticklabels=classes,  # Predicted\n",
    "            yticklabels=classes)  \n",
    "\n",
    "for i in range(len(classes)):\n",
    "    for j in range(len(classes)):\n",
    "        count = conf_mat_2[i, j]\n",
    "        percent = conf_mat_pct_2[i, j]\n",
    "        text = f\"{count} ({percent:.2f}%)\"\n",
    "        color = 'white' if i == j else 'black'  # White for diagonal, black for others\n",
    "        ax.text(j + 0.5, i + 0.5, text, ha='center', va='center', color=color, fontsize=14)\n",
    "\n",
    "plt.xlabel(\"Predicted\")\n",
    "plt.ylabel(\"Actual\")\n",
    "plt.title(\"XGBoost Confusion Matrix\")\n",
    "plt.show()"
   ]
  },
  {
   "cell_type": "code",
   "execution_count": 24,
   "id": "db839590",
   "metadata": {},
   "outputs": [
    {
     "data": {
      "text/plain": [
       "array([[66480,    10,  1437,     0,   479,  4107,  2606],\n",
       "       [    3, 74796,     8,     0,    63,     0,     0],\n",
       "       [  747,    40, 62314,     0,  6000,  4864,   955],\n",
       "       [    0,     0,     1, 74532,     0,     0,     0],\n",
       "       [  480,   140,  5722,     0, 68107,     0,   790],\n",
       "       [  621,     0,  1565,     0,     0, 72382,   213],\n",
       "       [  942,     0,   345,     0,   549,   610, 72233]])"
      ]
     },
     "execution_count": 24,
     "metadata": {},
     "output_type": "execute_result"
    }
   ],
   "source": [
    "conf_mat_2"
   ]
  },
  {
   "cell_type": "code",
   "execution_count": 25,
   "id": "528d7273",
   "metadata": {},
   "outputs": [
    {
     "data": {
      "text/plain": [
       "array([[8.84995807e+01, 1.33122113e-02, 1.91296476e+00, 0.00000000e+00,\n",
       "        6.37654921e-01, 5.46732518e+00, 3.46916226e+00],\n",
       "       [4.00694537e-03, 9.99011620e+01, 1.06851877e-02, 0.00000000e+00,\n",
       "        8.41458528e-02, 0.00000000e+00, 0.00000000e+00],\n",
       "       [9.97063534e-01, 5.33902830e-02, 8.31740523e+01, 0.00000000e+00,\n",
       "        8.00854245e+00, 6.49225841e+00, 1.27469301e+00],\n",
       "       [0.00000000e+00, 0.00000000e+00, 1.34168757e-03, 9.99986583e+01,\n",
       "        0.00000000e+00, 0.00000000e+00, 0.00000000e+00],\n",
       "       [6.37967012e-01, 1.86073712e-01, 7.60509842e+00, 0.00000000e+00,\n",
       "        9.05208735e+01, 0.00000000e+00, 1.04998737e+00],\n",
       "       [8.30424841e-01, 0.00000000e+00, 2.09277758e+00, 0.00000000e+00,\n",
       "        0.00000000e+00, 9.67919659e+01, 2.84831709e-01],\n",
       "       [1.26139879e+00, 0.00000000e+00, 4.61977263e-01, 0.00000000e+00,\n",
       "        7.35146427e-01, 8.16829363e-01, 9.67246482e+01]])"
      ]
     },
     "execution_count": 25,
     "metadata": {},
     "output_type": "execute_result"
    }
   ],
   "source": [
    "conf_mat_pct_2"
   ]
  },
  {
   "cell_type": "code",
   "execution_count": 28,
   "id": "8038e587",
   "metadata": {},
   "outputs": [],
   "source": [
    "import pickle"
   ]
  },
  {
   "cell_type": "code",
   "execution_count": 29,
   "id": "272e123c",
   "metadata": {},
   "outputs": [],
   "source": [
    "with open('conf_mat_2_XGBoost.pkl','wb') as f:\n",
    "     pickle.dump(conf_mat_2, f)"
   ]
  },
  {
   "cell_type": "code",
   "execution_count": 30,
   "id": "a747b261",
   "metadata": {},
   "outputs": [],
   "source": [
    "with open('conf_mat_2_XGBoost.pkl','rb') as f:\n",
    "     x = pickle.load(f)"
   ]
  },
  {
   "cell_type": "code",
   "execution_count": 31,
   "id": "3b11e41a",
   "metadata": {},
   "outputs": [
    {
     "data": {
      "text/plain": [
       "array([[66480,    10,  1437,     0,   479,  4107,  2606],\n",
       "       [    3, 74796,     8,     0,    63,     0,     0],\n",
       "       [  747,    40, 62314,     0,  6000,  4864,   955],\n",
       "       [    0,     0,     1, 74532,     0,     0,     0],\n",
       "       [  480,   140,  5722,     0, 68107,     0,   790],\n",
       "       [  621,     0,  1565,     0,     0, 72382,   213],\n",
       "       [  942,     0,   345,     0,   549,   610, 72233]])"
      ]
     },
     "execution_count": 31,
     "metadata": {},
     "output_type": "execute_result"
    }
   ],
   "source": [
    "x"
   ]
  },
  {
   "cell_type": "code",
   "execution_count": 32,
   "id": "cb7fc05d",
   "metadata": {},
   "outputs": [],
   "source": [
    "with open('conf_mat_pct_2_XGBoost.pkl','wb') as f:\n",
    "     pickle.dump(conf_mat_pct_2, f)"
   ]
  },
  {
   "cell_type": "code",
   "execution_count": null,
   "id": "76d6d6ce",
   "metadata": {},
   "outputs": [],
   "source": []
  }
 ],
 "metadata": {
  "kernelspec": {
   "display_name": "Python 3 (ipykernel)",
   "language": "python",
   "name": "python3"
  },
  "language_info": {
   "codemirror_mode": {
    "name": "ipython",
    "version": 3
   },
   "file_extension": ".py",
   "mimetype": "text/x-python",
   "name": "python",
   "nbconvert_exporter": "python",
   "pygments_lexer": "ipython3",
   "version": "3.9.7"
  }
 },
 "nbformat": 4,
 "nbformat_minor": 5
}
